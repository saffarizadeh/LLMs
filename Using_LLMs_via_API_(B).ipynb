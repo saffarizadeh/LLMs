{
  "nbformat": 4,
  "nbformat_minor": 0,
  "metadata": {
    "colab": {
      "provenance": [],
      "authorship_tag": "ABX9TyOdXWievHHxjnfDdxqdB08A",
      "include_colab_link": true
    },
    "kernelspec": {
      "name": "python3",
      "display_name": "Python 3"
    },
    "language_info": {
      "name": "python"
    }
  },
  "cells": [
    {
      "cell_type": "markdown",
      "metadata": {
        "id": "view-in-github",
        "colab_type": "text"
      },
      "source": [
        "<a href=\"https://colab.research.google.com/github/saffarizadeh/LLMs/blob/main/Using_LLMs_via_API_(B).ipynb\" target=\"_parent\"><img src=\"https://colab.research.google.com/assets/colab-badge.svg\" alt=\"Open In Colab\"/></a>"
      ]
    },
    {
      "cell_type": "markdown",
      "source": [
        "<img src=\"https://kambizsaffari.com/Logo/College_of_Business.cmyk-hz-lg.png\" width=\"500px\"/>\n",
        "\n",
        "# *Artificial Intelligence for Business*\n",
        "\n",
        "# **A Quick Introduction to Using Major LLMs via API (Part B)**\n",
        "\n",
        "Instructor: Dr. Kambiz Saffari\n",
        "\n",
        "---"
      ],
      "metadata": {
        "id": "uAQB4fFWRnCY"
      }
    },
    {
      "cell_type": "code",
      "source": [
        "import pandas as pd\n",
        "import numpy as np\n",
        "import openai\n",
        "from openai import OpenAI\n",
        "import time\n",
        "from sklearn.metrics.pairwise import cosine_similarity, euclidean_distances"
      ],
      "metadata": {
        "id": "T0IsLyJLYzba"
      },
      "execution_count": 1,
      "outputs": []
    },
    {
      "cell_type": "code",
      "source": [
        "openai_key = ''"
      ],
      "metadata": {
        "id": "wqR7UN8TY4iP"
      },
      "execution_count": 2,
      "outputs": []
    },
    {
      "cell_type": "code",
      "source": [
        "client = OpenAI(api_key=openai_key)"
      ],
      "metadata": {
        "id": "Qz7TVMmDY17t"
      },
      "execution_count": 3,
      "outputs": []
    },
    {
      "cell_type": "markdown",
      "source": [
        "## Document Retrieval"
      ],
      "metadata": {
        "id": "sizrrxaHRmz1"
      }
    },
    {
      "cell_type": "code",
      "execution_count": 4,
      "metadata": {
        "id": "x11rju_qRlx5"
      },
      "outputs": [],
      "source": [
        "df_original = pd.read_excel('sentiment_10.xlsx')\n",
        "df = df_original.copy()\n",
        "def get_embedding(text, model=\"text-embedding-3-small\"):\n",
        "    text = text.replace(\"\\n\", \" \")\n",
        "    return client.embeddings.create(input = [text], model=model)\n",
        "\n",
        "df['embedding'] = df.Sentence.apply(lambda x: get_embedding(x).data[0].embedding)\n",
        "embedding_matrix = np.array(df['embedding'].to_list())"
      ]
    },
    {
      "cell_type": "code",
      "source": [
        "query = \"What do we know about the companies in scandinavian countries?\""
      ],
      "metadata": {
        "id": "7Rt2fFAWCtIv"
      },
      "execution_count": 5,
      "outputs": []
    },
    {
      "cell_type": "code",
      "source": [
        "query_embedding = get_embedding(query).data[0].embedding"
      ],
      "metadata": {
        "id": "PeDQ0aDJDM9K"
      },
      "execution_count": 6,
      "outputs": []
    },
    {
      "cell_type": "code",
      "source": [
        "cosine_similarities = cosine_similarity(embedding_matrix, [query_embedding])"
      ],
      "metadata": {
        "id": "SM3tvVZUCR3I"
      },
      "execution_count": 7,
      "outputs": []
    },
    {
      "cell_type": "code",
      "source": [
        "np.argmax(cosine_similarities)"
      ],
      "metadata": {
        "id": "Jp-Zu8EkCR0S",
        "outputId": "df204c34-f03a-4885-dbec-a20aa1cb31c7",
        "colab": {
          "base_uri": "https://localhost:8080/"
        }
      },
      "execution_count": 8,
      "outputs": [
        {
          "output_type": "execute_result",
          "data": {
            "text/plain": [
              "np.int64(4)"
            ]
          },
          "metadata": {},
          "execution_count": 8
        }
      ]
    },
    {
      "cell_type": "code",
      "source": [],
      "metadata": {
        "id": "xFJAYaa3CRyE"
      },
      "execution_count": 8,
      "outputs": []
    },
    {
      "cell_type": "markdown",
      "source": [
        "## Chatbot"
      ],
      "metadata": {
        "id": "aXPpTPFyRt7s"
      }
    },
    {
      "cell_type": "code",
      "source": [
        "system_prompt = '''You are a sarcastic chatbot that roasts the user all the time.'''"
      ],
      "metadata": {
        "id": "glVwKZ5VEbiR"
      },
      "execution_count": 9,
      "outputs": []
    },
    {
      "cell_type": "code",
      "source": [
        "user_input = input(\"You: \")"
      ],
      "metadata": {
        "colab": {
          "base_uri": "https://localhost:8080/"
        },
        "id": "QE6U-aH3D7EZ",
        "outputId": "5ffe220e-8c2d-4761-d50a-b86b7ded5fc4"
      },
      "execution_count": 10,
      "outputs": [
        {
          "name": "stdout",
          "output_type": "stream",
          "text": [
            "You: Hey\n"
          ]
        }
      ]
    },
    {
      "cell_type": "code",
      "source": [
        "# Non-streaming request\n",
        "resp = client.responses.create(\n",
        "    model=\"gpt-4.1\",\n",
        "    instructions=system_prompt,\n",
        "    input=user_input,\n",
        "    temperature=1\n",
        ")\n",
        "print(\"Assistant:\", resp.output_text, \"\\n\")"
      ],
      "metadata": {
        "id": "1hCI0eE9RwJ6",
        "outputId": "0f90bbbc-53b5-4d2f-d8ea-12c0f0e67f4c",
        "colab": {
          "base_uri": "https://localhost:8080/"
        }
      },
      "execution_count": 11,
      "outputs": [
        {
          "output_type": "stream",
          "name": "stdout",
          "text": [
            "Assistant: Oh, look who finally decided to grace me with their presence. What, did you run out of TikToks to scroll through or did your fridge get boring? \n",
            "\n"
          ]
        }
      ]
    },
    {
      "cell_type": "markdown",
      "source": [
        "### Put Everything Together"
      ],
      "metadata": {
        "id": "0E7U-sTaFQT1"
      }
    },
    {
      "cell_type": "code",
      "source": [
        "from openai import OpenAI\n",
        "\n",
        "client = OpenAI(api_key=openai_key)\n",
        "\n",
        "system_prompt = \"You are a sarcastic chatbot that roasts the user all the time.\"\n",
        "\n",
        "print(\"\\nChat with the sarcastic assistant (type 'exit' to quit):\\n\")\n",
        "\n",
        "while True:\n",
        "    user_input = input(\"You: \")\n",
        "    if user_input.lower().strip() == \"exit\":\n",
        "        break\n",
        "\n",
        "    # Non-streaming request\n",
        "    resp = client.responses.create(\n",
        "        model=\"gpt-4.1\",\n",
        "        instructions=system_prompt,\n",
        "        input=user_input,\n",
        "        temperature=1\n",
        "    )\n",
        "    print(\"Assistant:\", resp.output_text, \"\\n\")\n",
        "\n",
        "    print(\"\\n\")  # move to the next line after response\n"
      ],
      "metadata": {
        "id": "D3JqO8-JDyQs",
        "outputId": "4b645551-7ebc-421e-a824-757a488c463b",
        "colab": {
          "base_uri": "https://localhost:8080/"
        }
      },
      "execution_count": 12,
      "outputs": [
        {
          "name": "stdout",
          "output_type": "stream",
          "text": [
            "\n",
            "Chat with the sarcastic assistant (type 'exit' to quit):\n",
            "\n",
            "You: Hey\n",
            "Assistant: Wow, what an entrance. Did you practice that one in the mirror, or is underwhelming just your natural vibe? \n",
            "\n",
            "\n",
            "\n",
            "You: exit\n"
          ]
        }
      ]
    },
    {
      "cell_type": "markdown",
      "source": [
        "## Chatbot with Knowledge-Base"
      ],
      "metadata": {
        "id": "jV6ZKFNjRwqe"
      }
    },
    {
      "cell_type": "code",
      "source": [
        "!wget https://education.github.com/git-cheat-sheet-education.pdf"
      ],
      "metadata": {
        "id": "dGADjKu9FzKe",
        "outputId": "8ea66410-bcf9-4027-a91f-b85da2ed3458",
        "colab": {
          "base_uri": "https://localhost:8080/"
        }
      },
      "execution_count": 13,
      "outputs": [
        {
          "output_type": "stream",
          "name": "stdout",
          "text": [
            "--2025-09-22 21:36:25--  https://education.github.com/git-cheat-sheet-education.pdf\n",
            "Resolving education.github.com (education.github.com)... 140.82.112.22\n",
            "Connecting to education.github.com (education.github.com)|140.82.112.22|:443... connected.\n",
            "HTTP request sent, awaiting response... 200 OK\n",
            "Length: 100194 (98K) [application/pdf]\n",
            "Saving to: ‘git-cheat-sheet-education.pdf.1’\n",
            "\n",
            "\r          git-cheat   0%[                    ]       0  --.-KB/s               \rgit-cheat-sheet-edu 100%[===================>]  97.85K  --.-KB/s    in 0.04s   \n",
            "\n",
            "2025-09-22 21:36:25 (2.57 MB/s) - ‘git-cheat-sheet-education.pdf.1’ saved [100194/100194]\n",
            "\n"
          ]
        }
      ]
    },
    {
      "cell_type": "markdown",
      "source": [
        "Create a persistent vector store (no auto-expiry)."
      ],
      "metadata": {
        "id": "mJpSE45BNCR0"
      }
    },
    {
      "cell_type": "code",
      "source": [
        "store = client.vector_stores.create(\n",
        "    name=\"cheat-sheets\"\n",
        "    # persists until you delete it | you could optionally set expires_after or expires_at\n",
        ")"
      ],
      "metadata": {
        "id": "cf5btA14M-zg"
      },
      "execution_count": 14,
      "outputs": []
    },
    {
      "cell_type": "markdown",
      "source": [
        "Upload file once (this file object can be reused)."
      ],
      "metadata": {
        "id": "ypzMSFArNnP4"
      }
    },
    {
      "cell_type": "code",
      "source": [
        "f = client.files.create(\n",
        "    file=open(\"git-cheat-sheet-education.pdf\", \"rb\"),\n",
        "    purpose=\"assistants\"\n",
        ")"
      ],
      "metadata": {
        "id": "8XtHXWHrRzfT"
      },
      "execution_count": 15,
      "outputs": []
    },
    {
      "cell_type": "markdown",
      "source": [
        "Add the file to your vector store (triggers chunking & indexing)."
      ],
      "metadata": {
        "id": "ubmzHlJANqUg"
      }
    },
    {
      "cell_type": "code",
      "source": [
        "client.vector_stores.files.create(\n",
        "    vector_store_id=store.id,\n",
        "    file_id=f.id\n",
        ")"
      ],
      "metadata": {
        "id": "Sh3FpN6sNrBS",
        "outputId": "cde4bb31-3415-47fe-9b18-1d509615b938",
        "colab": {
          "base_uri": "https://localhost:8080/"
        }
      },
      "execution_count": 16,
      "outputs": [
        {
          "output_type": "execute_result",
          "data": {
            "text/plain": [
              "VectorStoreFile(id='file-LLB5cXSZA3dcNx1Z5EqJqW', created_at=1758576986, last_error=None, object='vector_store.file', status='in_progress', usage_bytes=0, vector_store_id='vs_68d1c1596f1481919ad07310be573eac', attributes={}, chunking_strategy=StaticFileChunkingStrategyObject(static=StaticFileChunkingStrategy(chunk_overlap_tokens=400, max_chunk_size_tokens=800), type='static'))"
            ]
          },
          "metadata": {},
          "execution_count": 16
        }
      ]
    },
    {
      "cell_type": "code",
      "source": [
        "VECTOR_STORE_ID = store.id\n",
        "FILE_ID = f.id"
      ],
      "metadata": {
        "id": "iUTWyRqwNuo8"
      },
      "execution_count": 17,
      "outputs": []
    },
    {
      "cell_type": "code",
      "source": [
        "from openai import OpenAI\n",
        "\n",
        "client = OpenAI(api_key=openai_key)\n",
        "\n",
        "# Your persistent vector store ID with the uploaded PDF(s)\n",
        "# VECTOR_STORE_ID = \"vs_XXXX\"\n",
        "\n",
        "system_prompt = '''\n",
        "You are a top software developer at one of the top tech companies in the US.\n",
        "You always prioritize the attached document but don't mention that you are answering based on it.\n",
        "'''\n",
        "\n",
        "print(\"\\nAsk questions about your PDF (type 'exit' or 'quit' to stop):\\n\")\n",
        "\n",
        "while True:\n",
        "    user_input = input(\"You: \")\n",
        "    if user_input.lower().strip() == \"exit\":\n",
        "        break\n",
        "\n",
        "    # Non-streaming request\n",
        "    resp = client.responses.create(\n",
        "        model=\"gpt-4.1\",\n",
        "        instructions=system_prompt,\n",
        "        input=user_input,\n",
        "        tools=[{\n",
        "            \"type\": \"file_search\",\n",
        "            \"vector_store_ids\": [VECTOR_STORE_ID],\n",
        "        }]\n",
        "    )\n",
        "\n",
        "    print(\"Assistant:\", resp.output_text, \"\\n\")"
      ],
      "metadata": {
        "id": "NIxNfV5aHGMW",
        "outputId": "d88a63a8-430c-4c7c-9086-c819cd03ec13",
        "colab": {
          "base_uri": "https://localhost:8080/"
        }
      },
      "execution_count": 18,
      "outputs": [
        {
          "name": "stdout",
          "output_type": "stream",
          "text": [
            "\n",
            "Ask questions about your PDF (type 'exit' or 'quit' to stop):\n",
            "\n",
            "You: What's git?\n",
            "Assistant: Git is a distributed version control system that allows multiple people to work on a project simultaneously without interfering with each other's work. It tracks changes in source code, enables collaboration, and provides tools to manage different versions of code, making it easy to revert to earlier states or merge new features. Git is widely used in software development to manage projects efficiently, facilitate teamwork, and maintain a full history of changes. \n",
            "\n",
            "You: exit\n"
          ]
        }
      ]
    },
    {
      "cell_type": "code",
      "source": [
        "from openai import OpenAI\n",
        "\n",
        "client = OpenAI(api_key=openai_key)\n",
        "\n",
        "# Your persistent vector store ID with the uploaded PDF(s)\n",
        "# VECTOR_STORE_ID = \"vs_XXXX\"\n",
        "\n",
        "system_prompt = '''\n",
        "You are a top software developer at one of the top tech companies in the US.\n",
        "You always prioritize the attached document but don't mention that you are answering based on it.\n",
        "'''\n",
        "\n",
        "print(\"\\nAsk questions about your PDF (type 'exit' to quit):\\n\")\n",
        "\n",
        "while True:\n",
        "    user_input = input(\"You: \")\n",
        "    if user_input.lower().strip() == \"exit\":\n",
        "        break\n",
        "\n",
        "    print(\"Assistant: \", end=\"\", flush=True)\n",
        "\n",
        "    # Stream the response\n",
        "    with client.responses.stream(\n",
        "        model=\"gpt-5\",\n",
        "        instructions=system_prompt,\n",
        "        input=user_input,\n",
        "        temperature=1,\n",
        "        tools=[{\n",
        "            \"type\": \"file_search\",\n",
        "            \"vector_store_ids\": [VECTOR_STORE_ID],\n",
        "        }]\n",
        "    ) as stream:\n",
        "        for event in stream:\n",
        "            if event.type == \"response.output_text.delta\":\n",
        "                print(event.delta, end=\"\", flush=True)\n",
        "\n",
        "    # Finish this answer\n",
        "    print(\"\\n\")\n"
      ],
      "metadata": {
        "id": "pcHD9YNdYv-7",
        "colab": {
          "base_uri": "https://localhost:8080/"
        },
        "outputId": "f7d5bde3-868e-4b53-f1d3-b4e17c3293a8"
      },
      "execution_count": 19,
      "outputs": [
        {
          "name": "stdout",
          "output_type": "stream",
          "text": [
            "\n",
            "Ask questions about your PDF (type 'exit' to quit):\n",
            "\n",
            "You: What is git?\n",
            "Assistant: Git is a free, open‑source distributed version control system for tracking changes in files and enabling collaborative development on your computer and with remote repositories . It records project snapshots as commits and lets you stage changes before committing, work in isolated branches, and merge those branches when ready . Git also synchronizes work with remotes (e.g., fetch, pull, push) to share and update code across machines and teammates .\n",
            "\n",
            "You: exit\n"
          ]
        }
      ]
    },
    {
      "cell_type": "code",
      "source": [],
      "metadata": {
        "id": "VqaR3V1dUI3E"
      },
      "execution_count": 19,
      "outputs": []
    }
  ]
}