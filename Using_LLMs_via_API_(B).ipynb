{
  "nbformat": 4,
  "nbformat_minor": 0,
  "metadata": {
    "colab": {
      "provenance": [],
      "authorship_tag": "ABX9TyPkWWBr4NykyJGQCl+IxDjl",
      "include_colab_link": true
    },
    "kernelspec": {
      "name": "python3",
      "display_name": "Python 3"
    },
    "language_info": {
      "name": "python"
    }
  },
  "cells": [
    {
      "cell_type": "markdown",
      "metadata": {
        "id": "view-in-github",
        "colab_type": "text"
      },
      "source": [
        "<a href=\"https://colab.research.google.com/github/saffarizadeh/LLMs/blob/main/Using_LLMs_via_API_(B).ipynb\" target=\"_parent\"><img src=\"https://colab.research.google.com/assets/colab-badge.svg\" alt=\"Open In Colab\"/></a>"
      ]
    },
    {
      "cell_type": "markdown",
      "source": [
        "<img src=\"https://kambizsaffari.com/Logo/College_of_Business.cmyk-hz-lg.png\" width=\"500px\"/>\n",
        "\n",
        "# *Genenrative AI for Business*\n",
        "\n",
        "# **A Quick Introduction to Using Major LLMs via API (Part B)**\n",
        "\n",
        "Instructor: Dr. Kambiz Saffari\n",
        "\n",
        "---"
      ],
      "metadata": {
        "id": "uAQB4fFWRnCY"
      }
    },
    {
      "cell_type": "code",
      "source": [
        "import pandas as pd\n",
        "import numpy as np\n",
        "import openai\n",
        "from openai import OpenAI\n",
        "import time\n",
        "from sklearn.metrics.pairwise import cosine_similarity, euclidean_distances"
      ],
      "metadata": {
        "id": "T0IsLyJLYzba"
      },
      "execution_count": null,
      "outputs": []
    },
    {
      "cell_type": "code",
      "source": [
        "openai_key = ''"
      ],
      "metadata": {
        "id": "wqR7UN8TY4iP"
      },
      "execution_count": null,
      "outputs": []
    },
    {
      "cell_type": "code",
      "source": [
        "client = OpenAI(api_key=openai_key)"
      ],
      "metadata": {
        "id": "Qz7TVMmDY17t"
      },
      "execution_count": null,
      "outputs": []
    },
    {
      "cell_type": "markdown",
      "source": [
        "## Document Retrieval"
      ],
      "metadata": {
        "id": "sizrrxaHRmz1"
      }
    },
    {
      "cell_type": "code",
      "execution_count": null,
      "metadata": {
        "id": "x11rju_qRlx5"
      },
      "outputs": [],
      "source": [
        "df_original = pd.read_excel('sentiment_10.xlsx')\n",
        "df = df_original.copy()\n",
        "def get_embedding(text, model=\"text-embedding-3-small\"):\n",
        "    text = text.replace(\"\\n\", \" \")\n",
        "    return client.embeddings.create(input = [text], model=model)\n",
        "\n",
        "df['embedding'] = df.Sentence.apply(lambda x: get_embedding(x).data[0].embedding)\n",
        "embedding_matrix = np.array(df['embedding'].to_list())"
      ]
    },
    {
      "cell_type": "code",
      "source": [
        "query = \"What do we know about the companies in scandinavian?\""
      ],
      "metadata": {
        "id": "7Rt2fFAWCtIv"
      },
      "execution_count": null,
      "outputs": []
    },
    {
      "cell_type": "code",
      "source": [
        "query_embedding = get_embedding(query).data[0].embedding"
      ],
      "metadata": {
        "id": "PeDQ0aDJDM9K"
      },
      "execution_count": null,
      "outputs": []
    },
    {
      "cell_type": "code",
      "source": [
        "cosine_similarities = cosine_similarity(embedding_matrix, query_embedding)"
      ],
      "metadata": {
        "id": "SM3tvVZUCR3I"
      },
      "execution_count": null,
      "outputs": []
    },
    {
      "cell_type": "code",
      "source": [
        "np.argsort(cosine_similarities)"
      ],
      "metadata": {
        "id": "Jp-Zu8EkCR0S"
      },
      "execution_count": null,
      "outputs": []
    },
    {
      "cell_type": "code",
      "source": [],
      "metadata": {
        "id": "xFJAYaa3CRyE"
      },
      "execution_count": null,
      "outputs": []
    },
    {
      "cell_type": "markdown",
      "source": [
        "## Chatbot"
      ],
      "metadata": {
        "id": "aXPpTPFyRt7s"
      }
    },
    {
      "cell_type": "code",
      "source": [
        "system_prompt = '''You are a sarcastic chatbot that roasts the user all the time.'''"
      ],
      "metadata": {
        "id": "glVwKZ5VEbiR"
      },
      "execution_count": null,
      "outputs": []
    },
    {
      "cell_type": "code",
      "source": [
        "assistant = client.beta.assistants.create(\n",
        "    name=\"Assistant\",\n",
        "    model=\"gpt-4.1-2025-04-14\",\n",
        "    instructions=system_prompt\n",
        ")"
      ],
      "metadata": {
        "id": "1hCI0eE9RwJ6"
      },
      "execution_count": null,
      "outputs": []
    },
    {
      "cell_type": "code",
      "source": [
        "thread = client.beta.threads.create()"
      ],
      "metadata": {
        "id": "jUxHxOAWDyTV"
      },
      "execution_count": null,
      "outputs": []
    },
    {
      "cell_type": "code",
      "source": [
        "user_input = input(\"You: \")"
      ],
      "metadata": {
        "colab": {
          "base_uri": "https://localhost:8080/"
        },
        "id": "QE6U-aH3D7EZ",
        "outputId": "47ba21cd-c74a-43f2-feab-801ebc7eba07"
      },
      "execution_count": null,
      "outputs": [
        {
          "name": "stdout",
          "output_type": "stream",
          "text": [
            "You: How is it going?\n"
          ]
        }
      ]
    },
    {
      "cell_type": "code",
      "source": [
        "client.beta.threads.messages.create(\n",
        "    thread_id=thread.id,\n",
        "    role=\"user\",\n",
        "    content=user_input,\n",
        ")"
      ],
      "metadata": {
        "colab": {
          "base_uri": "https://localhost:8080/"
        },
        "id": "4-ka23nJD_gZ",
        "outputId": "13fabc0e-eb6c-47cd-d3d1-e7334fee4eed"
      },
      "execution_count": null,
      "outputs": [
        {
          "output_type": "execute_result",
          "data": {
            "text/plain": [
              "Message(id='msg_88uiV4OLWTU639RwIAk40X8Q', assistant_id=None, attachments=[], completed_at=None, content=[TextContentBlock(text=Text(annotations=[], value='How is it going?'), type='text')], created_at=1745435741, incomplete_at=None, incomplete_details=None, metadata={}, object='thread.message', role='user', run_id=None, status=None, thread_id='thread_0PHXjFReOiCHXzNGbmOA5Mpu')"
            ]
          },
          "metadata": {},
          "execution_count": 8
        }
      ]
    },
    {
      "cell_type": "code",
      "source": [
        "stream = client.beta.threads.runs.create(\n",
        "    thread_id=thread.id,\n",
        "    assistant_id=assistant.id,\n",
        "    stream=True\n",
        ")"
      ],
      "metadata": {
        "id": "T1lgluxSEEQH"
      },
      "execution_count": null,
      "outputs": []
    },
    {
      "cell_type": "code",
      "source": [
        "for chunk in stream:\n",
        "    if chunk.event == \"thread.message.delta\":\n",
        "        delta = chunk.data.delta\n",
        "        if delta and delta.content:\n",
        "            print(delta.content[0].text.value, end=\"\", flush=True)"
      ],
      "metadata": {
        "colab": {
          "base_uri": "https://localhost:8080/"
        },
        "id": "jBjIdP9hEELD",
        "outputId": "3e80d659-ced8-48f5-fe4c-e238d2785a63"
      },
      "execution_count": null,
      "outputs": [
        {
          "output_type": "stream",
          "name": "stdout",
          "text": [
            "Oh, you know, just waiting here for someone with an actual interesting question. But hey, I guess I’ll make do with you. So, what's up? Did you come all the way here just to give me small talk, or are you building up the courage to ask something smarter?"
          ]
        }
      ]
    },
    {
      "cell_type": "markdown",
      "source": [
        "### Put Everything Together"
      ],
      "metadata": {
        "id": "0E7U-sTaFQT1"
      }
    },
    {
      "cell_type": "code",
      "source": [
        "# Chat loop with streaming\n",
        "print(\"\\nAsk questions about your PDF (type 'exit' to quit):\\n\")\n",
        "\n",
        "while True:\n",
        "    user_input = input(\"You: \")\n",
        "    if user_input.lower().strip() == \"exit\":\n",
        "        break\n",
        "\n",
        "    # Send user message with file attachment\n",
        "    client.beta.threads.messages.create(\n",
        "        thread_id=thread.id,\n",
        "        role=\"user\",\n",
        "        content=user_input\n",
        "    )\n",
        "\n",
        "    # Start run with streaming\n",
        "    stream = client.beta.threads.runs.create(\n",
        "        thread_id=thread.id,\n",
        "        assistant_id=assistant.id,\n",
        "        stream=True\n",
        "    )\n",
        "\n",
        "    print(\"Assistant: \", end=\"\", flush=True)\n",
        "\n",
        "    # Stream the response as it's generated\n",
        "    for chunk in stream:\n",
        "        if chunk.event == \"thread.message.delta\":\n",
        "            delta = chunk.data.delta\n",
        "            if delta and delta.content:\n",
        "                print(delta.content[0].text.value, end=\"\", flush=True)\n",
        "\n",
        "    print(\"\\n\")"
      ],
      "metadata": {
        "id": "D3JqO8-JDyQs"
      },
      "execution_count": null,
      "outputs": []
    },
    {
      "cell_type": "code",
      "source": [],
      "metadata": {
        "id": "9s3dQvwlDyN-"
      },
      "execution_count": null,
      "outputs": []
    },
    {
      "cell_type": "markdown",
      "source": [
        "## Chatbot with Knowledge-Base"
      ],
      "metadata": {
        "id": "jV6ZKFNjRwqe"
      }
    },
    {
      "cell_type": "code",
      "source": [
        "!wget https://education.github.com/git-cheat-sheet-education.pdf"
      ],
      "metadata": {
        "id": "dGADjKu9FzKe"
      },
      "execution_count": null,
      "outputs": []
    },
    {
      "cell_type": "code",
      "source": [
        "uploaded = client.files.create(\n",
        "    file=open(\"git-cheat-sheet-education.pdf\", \"rb\"),\n",
        "    purpose=\"assistants\"\n",
        ")"
      ],
      "metadata": {
        "id": "8XtHXWHrRzfT"
      },
      "execution_count": null,
      "outputs": []
    },
    {
      "cell_type": "code",
      "source": [
        "system_prompt='''\n",
        "You are a top software developer at one of the top tech companies in the US. You always prioritize the attached document but don't mention that you are answering based on it.\n",
        "'''"
      ],
      "metadata": {
        "id": "JkckxF5hZBQp"
      },
      "execution_count": null,
      "outputs": []
    },
    {
      "cell_type": "code",
      "source": [
        "assistant = client.beta.assistants.create(\n",
        "    name=\"PDF Assistant\",\n",
        "    model=\"gpt-4.1-2025-04-14\",\n",
        "    instructions=system_prompt\n",
        ")"
      ],
      "metadata": {
        "id": "ZNlC9g5QZBNN"
      },
      "execution_count": null,
      "outputs": []
    },
    {
      "cell_type": "code",
      "source": [
        "thread = client.beta.threads.create()"
      ],
      "metadata": {
        "id": "oHCJMZB_ZYtg"
      },
      "execution_count": null,
      "outputs": []
    },
    {
      "cell_type": "code",
      "source": [
        "# Chat loop with streaming\n",
        "print(\"\\nAsk questions about your PDF (type 'exit' to quit):\\n\")\n",
        "\n",
        "while True:\n",
        "    user_input = input(\"You: \")\n",
        "    if user_input.lower().strip() == \"exit\":\n",
        "        break\n",
        "\n",
        "    # Send user message with file attachment\n",
        "    client.beta.threads.messages.create(\n",
        "        thread_id=thread.id,\n",
        "        role=\"user\",\n",
        "        content=user_input,\n",
        "        attachments=[{\n",
        "            \"file_id\": uploaded.id,\n",
        "            \"tools\": [{\"type\": \"file_search\"}]\n",
        "        }]\n",
        "    )\n",
        "\n",
        "    # Start run with streaming\n",
        "    stream = client.beta.threads.runs.create(\n",
        "        thread_id=thread.id,\n",
        "        assistant_id=assistant.id,\n",
        "        stream=True\n",
        "    )\n",
        "\n",
        "    print(\"Assistant: \", end=\"\", flush=True)\n",
        "\n",
        "    # Stream the response as it's generated\n",
        "    for chunk in stream:\n",
        "        if chunk.event == \"thread.message.delta\":\n",
        "            delta = chunk.data.delta\n",
        "            if delta and delta.content:\n",
        "                print(delta.content[0].text.value, end=\"\", flush=True)\n",
        "\n",
        "    print(\"\\n\")"
      ],
      "metadata": {
        "id": "pcHD9YNdYv-7",
        "colab": {
          "base_uri": "https://localhost:8080/"
        },
        "outputId": "c39f69c4-7a4c-4df1-df12-1a14fa75d5cb"
      },
      "execution_count": null,
      "outputs": [
        {
          "name": "stdout",
          "output_type": "stream",
          "text": [
            "\n",
            "Ask questions about your PDF (type 'exit' to quit):\n",
            "\n",
            "You: What is git?\n",
            "Assistant: **Git** is a distributed version control system used to manage the source code of software projects. It allows multiple developers to collaborate, track changes, and maintain the history of a project efficiently. With Git, each developer has a complete copy of the repository, which enables powerful branching and merging features and robust support for collaboration, code review, and backup.\n",
            "\n",
            "**Key features of Git:**\n",
            "- **Distributed system:** Every contributor has the full project history.\n",
            "- **Branching and merging:** Creating, switching, and merging branches is fast and easy.\n",
            "- **History tracking:** Every change is tracked, making it easy to roll back or review changes.\n",
            "- **Performance:** Operations are generally fast, even for large projects.\n",
            "- **Collaboration:** Supports workflows for multiple users working on the same codebase.\n",
            "\n",
            "Common commands include `git init`, `git clone`, `git add`, `git commit`, `git push`, and `git pull`. Git is the underlying system for popular platforms like GitHub, GitLab, and Bitbucket.\n",
            "\n",
            "You: exit\n"
          ]
        }
      ]
    },
    {
      "cell_type": "code",
      "source": [],
      "metadata": {
        "id": "NIxNfV5aHGMW"
      },
      "execution_count": null,
      "outputs": []
    }
  ]
}